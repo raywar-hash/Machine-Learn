{
 "cells": [
  {
   "cell_type": "code",
   "execution_count": 1,
   "metadata": {
    "_cell_guid": "61791595-0387-442f-9d9c-8ae50323fea2",
    "_uuid": "2167ade64955082a54b122491997afde731a6624",
    "execution": {
     "iopub.execute_input": "2021-11-12T19:17:17.064048Z",
     "iopub.status.busy": "2021-11-12T19:17:17.063509Z",
     "iopub.status.idle": "2021-11-12T19:17:18.159387Z",
     "shell.execute_reply": "2021-11-12T19:17:18.158542Z",
     "shell.execute_reply.started": "2021-11-12T19:17:17.063996Z"
    }
   },
   "outputs": [],
   "source": [
    "import numpy as np # linear algebra\n",
    "import pandas as pd # data processing, CSV file I/O (e.g. pd.read_csv)\n",
    "import matplotlib.pyplot as plt # for plotting and visualozing data"
   ]
  },
  {
   "cell_type": "code",
   "execution_count": 2,
   "metadata": {
    "_cell_guid": "621125e7-b216-41ad-ab85-689a882aff89",
    "_uuid": "6998635ba361887c513315ab4d09eb659ae5f8a8",
    "execution": {
     "iopub.execute_input": "2021-11-12T19:17:18.161002Z",
     "iopub.status.busy": "2021-11-12T19:17:18.160623Z",
     "iopub.status.idle": "2021-11-12T19:17:18.187231Z",
     "shell.execute_reply": "2021-11-12T19:17:18.185738Z",
     "shell.execute_reply.started": "2021-11-12T19:17:18.160961Z"
    }
   },
   "outputs": [],
   "source": [
    "#our dataset\n",
    "fruits=pd.read_table('../input/fruit_data_with_colors.txt')"
   ]
  },
  {
   "cell_type": "markdown",
   "metadata": {
    "_cell_guid": "95a69e06-07e2-4dc5-a1db-60d61955d876",
    "_uuid": "0dac8ae5159670925412662863a86f5ba5bade11"
   },
   "source": [
    "We have loaded our dataset, now we will check it's first five rows to check how our data looks, which features our data have."
   ]
  },
  {
   "cell_type": "code",
   "execution_count": 3,
   "metadata": {
    "_cell_guid": "a90a4fad-924f-48ba-95f6-dc7a6f5dcf61",
    "_uuid": "0b998e6097e66f862e8cc5db686810e50d824ad5",
    "execution": {
     "iopub.execute_input": "2021-11-12T19:17:18.189144Z",
     "iopub.status.busy": "2021-11-12T19:17:18.188744Z",
     "iopub.status.idle": "2021-11-12T19:17:18.211797Z",
     "shell.execute_reply": "2021-11-12T19:17:18.211033Z",
     "shell.execute_reply.started": "2021-11-12T19:17:18.189084Z"
    }
   },
   "outputs": [
    {
     "data": {
      "text/html": [
       "<div>\n",
       "<style>\n",
       "    .dataframe thead tr:only-child th {\n",
       "        text-align: right;\n",
       "    }\n",
       "\n",
       "    .dataframe thead th {\n",
       "        text-align: left;\n",
       "    }\n",
       "\n",
       "    .dataframe tbody tr th {\n",
       "        vertical-align: top;\n",
       "    }\n",
       "</style>\n",
       "<table border=\"1\" class=\"dataframe\">\n",
       "  <thead>\n",
       "    <tr style=\"text-align: right;\">\n",
       "      <th></th>\n",
       "      <th>fruit_label</th>\n",
       "      <th>fruit_name</th>\n",
       "      <th>fruit_subtype</th>\n",
       "      <th>mass</th>\n",
       "      <th>width</th>\n",
       "      <th>height</th>\n",
       "      <th>color_score</th>\n",
       "    </tr>\n",
       "  </thead>\n",
       "  <tbody>\n",
       "    <tr>\n",
       "      <th>0</th>\n",
       "      <td>1</td>\n",
       "      <td>apple</td>\n",
       "      <td>granny_smith</td>\n",
       "      <td>192</td>\n",
       "      <td>8.4</td>\n",
       "      <td>7.3</td>\n",
       "      <td>0.55</td>\n",
       "    </tr>\n",
       "    <tr>\n",
       "      <th>1</th>\n",
       "      <td>1</td>\n",
       "      <td>apple</td>\n",
       "      <td>granny_smith</td>\n",
       "      <td>180</td>\n",
       "      <td>8.0</td>\n",
       "      <td>6.8</td>\n",
       "      <td>0.59</td>\n",
       "    </tr>\n",
       "    <tr>\n",
       "      <th>2</th>\n",
       "      <td>1</td>\n",
       "      <td>apple</td>\n",
       "      <td>granny_smith</td>\n",
       "      <td>176</td>\n",
       "      <td>7.4</td>\n",
       "      <td>7.2</td>\n",
       "      <td>0.60</td>\n",
       "    </tr>\n",
       "    <tr>\n",
       "      <th>3</th>\n",
       "      <td>2</td>\n",
       "      <td>mandarin</td>\n",
       "      <td>mandarin</td>\n",
       "      <td>86</td>\n",
       "      <td>6.2</td>\n",
       "      <td>4.7</td>\n",
       "      <td>0.80</td>\n",
       "    </tr>\n",
       "    <tr>\n",
       "      <th>4</th>\n",
       "      <td>2</td>\n",
       "      <td>mandarin</td>\n",
       "      <td>mandarin</td>\n",
       "      <td>84</td>\n",
       "      <td>6.0</td>\n",
       "      <td>4.6</td>\n",
       "      <td>0.79</td>\n",
       "    </tr>\n",
       "  </tbody>\n",
       "</table>\n",
       "</div>"
      ],
      "text/plain": [
       "   fruit_label fruit_name fruit_subtype  mass  width  height  color_score\n",
       "0            1      apple  granny_smith   192    8.4     7.3         0.55\n",
       "1            1      apple  granny_smith   180    8.0     6.8         0.59\n",
       "2            1      apple  granny_smith   176    7.4     7.2         0.60\n",
       "3            2   mandarin      mandarin    86    6.2     4.7         0.80\n",
       "4            2   mandarin      mandarin    84    6.0     4.6         0.79"
      ]
     },
     "execution_count": 3,
     "metadata": {},
     "output_type": "execute_result"
    }
   ],
   "source": [
    "#checking first five rows of our dataset\n",
    "fruits.head()"
   ]
  },
  {
   "cell_type": "code",
   "execution_count": 4,
   "metadata": {
    "execution": {
     "iopub.execute_input": "2021-11-12T19:17:18.213642Z",
     "iopub.status.busy": "2021-11-12T19:17:18.213179Z",
     "iopub.status.idle": "2021-11-12T19:17:18.230193Z",
     "shell.execute_reply": "2021-11-12T19:17:18.229246Z",
     "shell.execute_reply.started": "2021-11-12T19:17:18.213584Z"
    }
   },
   "outputs": [
    {
     "data": {
      "text/plain": [
       "{1: 'apple', 2: 'mandarin', 3: 'orange', 4: 'lemon'}"
      ]
     },
     "execution_count": 4,
     "metadata": {},
     "output_type": "execute_result"
    }
   ],
   "source": [
    "# create a mapping from fruit label value to fruit name to make results easier to interpret\n",
    "predct = dict(zip(fruits.fruit_label.unique(), fruits.fruit_name.unique()))   \n",
    "predct"
   ]
  },
  {
   "cell_type": "markdown",
   "metadata": {
    "_cell_guid": "9397e208-321b-4d12-a1b6-4cce90e1819b",
    "_uuid": "ab1b39e4275b68e87caf0fc163d64f13e369dd4d"
   },
   "source": [
    "Dataset have seven columns containing the information about fruits. Here only two fruits i.e apple and mandarin are seen. Every fruit is described with four features i.e 1) mass of fruit 2) width of fruit 3) what is height and 4) what is color score of fruit. Now we have to check how many fruits are present in our data. "
   ]
  },
  {
   "cell_type": "code",
   "execution_count": 5,
   "metadata": {
    "_cell_guid": "6d337f56-af42-41c1-85e6-145b611220c6",
    "_uuid": "25a64732987bd9cf9c82971746b145f1f44df9c2",
    "execution": {
     "iopub.execute_input": "2021-11-12T19:17:18.231855Z",
     "iopub.status.busy": "2021-11-12T19:17:18.231418Z",
     "iopub.status.idle": "2021-11-12T19:17:18.245940Z",
     "shell.execute_reply": "2021-11-12T19:17:18.245153Z",
     "shell.execute_reply.started": "2021-11-12T19:17:18.231786Z"
    }
   },
   "outputs": [
    {
     "data": {
      "text/plain": [
       "orange      19\n",
       "apple       19\n",
       "lemon       16\n",
       "mandarin     5\n",
       "Name: fruit_name, dtype: int64"
      ]
     },
     "execution_count": 5,
     "metadata": {},
     "output_type": "execute_result"
    }
   ],
   "source": [
    "#checking how many unique fruit names are present in the dataset\n",
    "fruits['fruit_name'].value_counts()"
   ]
  },
  {
   "cell_type": "markdown",
   "metadata": {
    "_cell_guid": "d1cfd2ba-d4fd-4b21-ba11-cd128b251ce9",
    "_uuid": "14defd790dd4d0bf350e1d673a368cbcf4099049"
   },
   "source": [
    "We have seen that the dataset contains four unique fruits. apple with 19 entries, orange with 19 entries, lemon with 16 entries and mandarin with 5 entries. "
   ]
  },
  {
   "cell_type": "markdown",
   "metadata": {
    "_cell_guid": "77a1edac-fd53-4b29-bf56-d88a81f3bf8b",
    "_uuid": "2b7ecc52f171c000b9bfa2533ea2de424e691914"
   },
   "source": [
    "Now we will store all unique data on four different dataframes."
   ]
  },
  {
   "cell_type": "code",
   "execution_count": 6,
   "metadata": {
    "_cell_guid": "7f1debc2-891e-4fa1-9b61-12425438c563",
    "_uuid": "33856b8a7b1a421d251336f0023b09374860acc3",
    "execution": {
     "iopub.execute_input": "2021-11-12T19:17:18.247371Z",
     "iopub.status.busy": "2021-11-12T19:17:18.247145Z",
     "iopub.status.idle": "2021-11-12T19:17:18.263992Z",
     "shell.execute_reply": "2021-11-12T19:17:18.263103Z",
     "shell.execute_reply.started": "2021-11-12T19:17:18.247330Z"
    }
   },
   "outputs": [],
   "source": [
    "apple_data=fruits[fruits['fruit_name']=='apple']\n",
    "orange_data=fruits[fruits['fruit_name']=='orange']\n",
    "lemon_data=fruits[fruits['fruit_name']=='lemon']\n",
    "mandarin_data=fruits[fruits['fruit_name']=='mandarin']"
   ]
  },
  {
   "cell_type": "code",
   "execution_count": 7,
   "metadata": {
    "_cell_guid": "8911ec35-e7c7-4dcc-b86b-0f2a6565831d",
    "_uuid": "a38c65231a02433c0e86d984b2627e0866d0e0fe",
    "execution": {
     "iopub.execute_input": "2021-11-12T19:17:18.265525Z",
     "iopub.status.busy": "2021-11-12T19:17:18.265292Z",
     "iopub.status.idle": "2021-11-12T19:17:18.287843Z",
     "shell.execute_reply": "2021-11-12T19:17:18.286851Z",
     "shell.execute_reply.started": "2021-11-12T19:17:18.265479Z"
    }
   },
   "outputs": [
    {
     "data": {
      "text/html": [
       "<div>\n",
       "<style>\n",
       "    .dataframe thead tr:only-child th {\n",
       "        text-align: right;\n",
       "    }\n",
       "\n",
       "    .dataframe thead th {\n",
       "        text-align: left;\n",
       "    }\n",
       "\n",
       "    .dataframe tbody tr th {\n",
       "        vertical-align: top;\n",
       "    }\n",
       "</style>\n",
       "<table border=\"1\" class=\"dataframe\">\n",
       "  <thead>\n",
       "    <tr style=\"text-align: right;\">\n",
       "      <th></th>\n",
       "      <th>fruit_label</th>\n",
       "      <th>fruit_name</th>\n",
       "      <th>fruit_subtype</th>\n",
       "      <th>mass</th>\n",
       "      <th>width</th>\n",
       "      <th>height</th>\n",
       "      <th>color_score</th>\n",
       "    </tr>\n",
       "  </thead>\n",
       "  <tbody>\n",
       "    <tr>\n",
       "      <th>0</th>\n",
       "      <td>1</td>\n",
       "      <td>apple</td>\n",
       "      <td>granny_smith</td>\n",
       "      <td>192</td>\n",
       "      <td>8.4</td>\n",
       "      <td>7.3</td>\n",
       "      <td>0.55</td>\n",
       "    </tr>\n",
       "    <tr>\n",
       "      <th>1</th>\n",
       "      <td>1</td>\n",
       "      <td>apple</td>\n",
       "      <td>granny_smith</td>\n",
       "      <td>180</td>\n",
       "      <td>8.0</td>\n",
       "      <td>6.8</td>\n",
       "      <td>0.59</td>\n",
       "    </tr>\n",
       "    <tr>\n",
       "      <th>2</th>\n",
       "      <td>1</td>\n",
       "      <td>apple</td>\n",
       "      <td>granny_smith</td>\n",
       "      <td>176</td>\n",
       "      <td>7.4</td>\n",
       "      <td>7.2</td>\n",
       "      <td>0.60</td>\n",
       "    </tr>\n",
       "    <tr>\n",
       "      <th>8</th>\n",
       "      <td>1</td>\n",
       "      <td>apple</td>\n",
       "      <td>braeburn</td>\n",
       "      <td>178</td>\n",
       "      <td>7.1</td>\n",
       "      <td>7.8</td>\n",
       "      <td>0.92</td>\n",
       "    </tr>\n",
       "    <tr>\n",
       "      <th>9</th>\n",
       "      <td>1</td>\n",
       "      <td>apple</td>\n",
       "      <td>braeburn</td>\n",
       "      <td>172</td>\n",
       "      <td>7.4</td>\n",
       "      <td>7.0</td>\n",
       "      <td>0.89</td>\n",
       "    </tr>\n",
       "  </tbody>\n",
       "</table>\n",
       "</div>"
      ],
      "text/plain": [
       "   fruit_label fruit_name fruit_subtype  mass  width  height  color_score\n",
       "0            1      apple  granny_smith   192    8.4     7.3         0.55\n",
       "1            1      apple  granny_smith   180    8.0     6.8         0.59\n",
       "2            1      apple  granny_smith   176    7.4     7.2         0.60\n",
       "8            1      apple      braeburn   178    7.1     7.8         0.92\n",
       "9            1      apple      braeburn   172    7.4     7.0         0.89"
      ]
     },
     "execution_count": 7,
     "metadata": {},
     "output_type": "execute_result"
    }
   ],
   "source": [
    "apple_data.head()"
   ]
  },
  {
   "cell_type": "code",
   "execution_count": 8,
   "metadata": {
    "_cell_guid": "ce2fafb4-38e0-4c16-bc20-f3e4dadd5426",
    "_uuid": "8f7c5fd8eedf970a23c80f0bf1bf0ec7fc2a6760",
    "execution": {
     "iopub.execute_input": "2021-11-12T19:17:18.289482Z",
     "iopub.status.busy": "2021-11-12T19:17:18.289211Z",
     "iopub.status.idle": "2021-11-12T19:17:18.309828Z",
     "shell.execute_reply": "2021-11-12T19:17:18.309202Z",
     "shell.execute_reply.started": "2021-11-12T19:17:18.289436Z"
    }
   },
   "outputs": [
    {
     "data": {
      "text/html": [
       "<div>\n",
       "<style>\n",
       "    .dataframe thead tr:only-child th {\n",
       "        text-align: right;\n",
       "    }\n",
       "\n",
       "    .dataframe thead th {\n",
       "        text-align: left;\n",
       "    }\n",
       "\n",
       "    .dataframe tbody tr th {\n",
       "        vertical-align: top;\n",
       "    }\n",
       "</style>\n",
       "<table border=\"1\" class=\"dataframe\">\n",
       "  <thead>\n",
       "    <tr style=\"text-align: right;\">\n",
       "      <th></th>\n",
       "      <th>fruit_label</th>\n",
       "      <th>fruit_name</th>\n",
       "      <th>fruit_subtype</th>\n",
       "      <th>mass</th>\n",
       "      <th>width</th>\n",
       "      <th>height</th>\n",
       "      <th>color_score</th>\n",
       "    </tr>\n",
       "  </thead>\n",
       "  <tbody>\n",
       "    <tr>\n",
       "      <th>3</th>\n",
       "      <td>2</td>\n",
       "      <td>mandarin</td>\n",
       "      <td>mandarin</td>\n",
       "      <td>86</td>\n",
       "      <td>6.2</td>\n",
       "      <td>4.7</td>\n",
       "      <td>0.80</td>\n",
       "    </tr>\n",
       "    <tr>\n",
       "      <th>4</th>\n",
       "      <td>2</td>\n",
       "      <td>mandarin</td>\n",
       "      <td>mandarin</td>\n",
       "      <td>84</td>\n",
       "      <td>6.0</td>\n",
       "      <td>4.6</td>\n",
       "      <td>0.79</td>\n",
       "    </tr>\n",
       "    <tr>\n",
       "      <th>5</th>\n",
       "      <td>2</td>\n",
       "      <td>mandarin</td>\n",
       "      <td>mandarin</td>\n",
       "      <td>80</td>\n",
       "      <td>5.8</td>\n",
       "      <td>4.3</td>\n",
       "      <td>0.77</td>\n",
       "    </tr>\n",
       "    <tr>\n",
       "      <th>6</th>\n",
       "      <td>2</td>\n",
       "      <td>mandarin</td>\n",
       "      <td>mandarin</td>\n",
       "      <td>80</td>\n",
       "      <td>5.9</td>\n",
       "      <td>4.3</td>\n",
       "      <td>0.81</td>\n",
       "    </tr>\n",
       "    <tr>\n",
       "      <th>7</th>\n",
       "      <td>2</td>\n",
       "      <td>mandarin</td>\n",
       "      <td>mandarin</td>\n",
       "      <td>76</td>\n",
       "      <td>5.8</td>\n",
       "      <td>4.0</td>\n",
       "      <td>0.81</td>\n",
       "    </tr>\n",
       "  </tbody>\n",
       "</table>\n",
       "</div>"
      ],
      "text/plain": [
       "   fruit_label fruit_name fruit_subtype  mass  width  height  color_score\n",
       "3            2   mandarin      mandarin    86    6.2     4.7         0.80\n",
       "4            2   mandarin      mandarin    84    6.0     4.6         0.79\n",
       "5            2   mandarin      mandarin    80    5.8     4.3         0.77\n",
       "6            2   mandarin      mandarin    80    5.9     4.3         0.81\n",
       "7            2   mandarin      mandarin    76    5.8     4.0         0.81"
      ]
     },
     "execution_count": 8,
     "metadata": {},
     "output_type": "execute_result"
    }
   ],
   "source": [
    "mandarin_data.head()"
   ]
  },
  {
   "cell_type": "code",
   "execution_count": 9,
   "metadata": {
    "_cell_guid": "f98a459e-ae3e-452d-8ab6-a5548afaa23b",
    "_uuid": "65e717af26e8ea9a1a28fba3d4f4de9295e35c07",
    "execution": {
     "iopub.execute_input": "2021-11-12T19:17:18.311748Z",
     "iopub.status.busy": "2021-11-12T19:17:18.311370Z",
     "iopub.status.idle": "2021-11-12T19:17:18.332673Z",
     "shell.execute_reply": "2021-11-12T19:17:18.331585Z",
     "shell.execute_reply.started": "2021-11-12T19:17:18.311708Z"
    }
   },
   "outputs": [
    {
     "data": {
      "text/html": [
       "<div>\n",
       "<style>\n",
       "    .dataframe thead tr:only-child th {\n",
       "        text-align: right;\n",
       "    }\n",
       "\n",
       "    .dataframe thead th {\n",
       "        text-align: left;\n",
       "    }\n",
       "\n",
       "    .dataframe tbody tr th {\n",
       "        vertical-align: top;\n",
       "    }\n",
       "</style>\n",
       "<table border=\"1\" class=\"dataframe\">\n",
       "  <thead>\n",
       "    <tr style=\"text-align: right;\">\n",
       "      <th></th>\n",
       "      <th>fruit_label</th>\n",
       "      <th>fruit_name</th>\n",
       "      <th>fruit_subtype</th>\n",
       "      <th>mass</th>\n",
       "      <th>width</th>\n",
       "      <th>height</th>\n",
       "      <th>color_score</th>\n",
       "    </tr>\n",
       "  </thead>\n",
       "  <tbody>\n",
       "    <tr>\n",
       "      <th>24</th>\n",
       "      <td>3</td>\n",
       "      <td>orange</td>\n",
       "      <td>spanish_jumbo</td>\n",
       "      <td>342</td>\n",
       "      <td>9.0</td>\n",
       "      <td>9.4</td>\n",
       "      <td>0.75</td>\n",
       "    </tr>\n",
       "    <tr>\n",
       "      <th>25</th>\n",
       "      <td>3</td>\n",
       "      <td>orange</td>\n",
       "      <td>spanish_jumbo</td>\n",
       "      <td>356</td>\n",
       "      <td>9.2</td>\n",
       "      <td>9.2</td>\n",
       "      <td>0.75</td>\n",
       "    </tr>\n",
       "    <tr>\n",
       "      <th>26</th>\n",
       "      <td>3</td>\n",
       "      <td>orange</td>\n",
       "      <td>spanish_jumbo</td>\n",
       "      <td>362</td>\n",
       "      <td>9.6</td>\n",
       "      <td>9.2</td>\n",
       "      <td>0.74</td>\n",
       "    </tr>\n",
       "    <tr>\n",
       "      <th>27</th>\n",
       "      <td>3</td>\n",
       "      <td>orange</td>\n",
       "      <td>selected_seconds</td>\n",
       "      <td>204</td>\n",
       "      <td>7.5</td>\n",
       "      <td>9.2</td>\n",
       "      <td>0.77</td>\n",
       "    </tr>\n",
       "    <tr>\n",
       "      <th>28</th>\n",
       "      <td>3</td>\n",
       "      <td>orange</td>\n",
       "      <td>selected_seconds</td>\n",
       "      <td>140</td>\n",
       "      <td>6.7</td>\n",
       "      <td>7.1</td>\n",
       "      <td>0.72</td>\n",
       "    </tr>\n",
       "  </tbody>\n",
       "</table>\n",
       "</div>"
      ],
      "text/plain": [
       "    fruit_label fruit_name     fruit_subtype  mass  width  height  color_score\n",
       "24            3     orange     spanish_jumbo   342    9.0     9.4         0.75\n",
       "25            3     orange     spanish_jumbo   356    9.2     9.2         0.75\n",
       "26            3     orange     spanish_jumbo   362    9.6     9.2         0.74\n",
       "27            3     orange  selected_seconds   204    7.5     9.2         0.77\n",
       "28            3     orange  selected_seconds   140    6.7     7.1         0.72"
      ]
     },
     "execution_count": 9,
     "metadata": {},
     "output_type": "execute_result"
    }
   ],
   "source": [
    "orange_data.head()"
   ]
  },
  {
   "cell_type": "code",
   "execution_count": 10,
   "metadata": {
    "_cell_guid": "3d7d8572-128e-4cf5-9569-f9459b103f39",
    "_uuid": "e777517faf3ff0cfdf4e3c102eac85dc0e6af113",
    "execution": {
     "iopub.execute_input": "2021-11-12T19:17:18.334849Z",
     "iopub.status.busy": "2021-11-12T19:17:18.334358Z",
     "iopub.status.idle": "2021-11-12T19:17:18.348999Z",
     "shell.execute_reply": "2021-11-12T19:17:18.348413Z",
     "shell.execute_reply.started": "2021-11-12T19:17:18.334790Z"
    }
   },
   "outputs": [
    {
     "data": {
      "text/html": [
       "<div>\n",
       "<style>\n",
       "    .dataframe thead tr:only-child th {\n",
       "        text-align: right;\n",
       "    }\n",
       "\n",
       "    .dataframe thead th {\n",
       "        text-align: left;\n",
       "    }\n",
       "\n",
       "    .dataframe tbody tr th {\n",
       "        vertical-align: top;\n",
       "    }\n",
       "</style>\n",
       "<table border=\"1\" class=\"dataframe\">\n",
       "  <thead>\n",
       "    <tr style=\"text-align: right;\">\n",
       "      <th></th>\n",
       "      <th>fruit_label</th>\n",
       "      <th>fruit_name</th>\n",
       "      <th>fruit_subtype</th>\n",
       "      <th>mass</th>\n",
       "      <th>width</th>\n",
       "      <th>height</th>\n",
       "      <th>color_score</th>\n",
       "    </tr>\n",
       "  </thead>\n",
       "  <tbody>\n",
       "    <tr>\n",
       "      <th>43</th>\n",
       "      <td>4</td>\n",
       "      <td>lemon</td>\n",
       "      <td>spanish_belsan</td>\n",
       "      <td>194</td>\n",
       "      <td>7.2</td>\n",
       "      <td>10.3</td>\n",
       "      <td>0.70</td>\n",
       "    </tr>\n",
       "    <tr>\n",
       "      <th>44</th>\n",
       "      <td>4</td>\n",
       "      <td>lemon</td>\n",
       "      <td>spanish_belsan</td>\n",
       "      <td>200</td>\n",
       "      <td>7.3</td>\n",
       "      <td>10.5</td>\n",
       "      <td>0.72</td>\n",
       "    </tr>\n",
       "    <tr>\n",
       "      <th>45</th>\n",
       "      <td>4</td>\n",
       "      <td>lemon</td>\n",
       "      <td>spanish_belsan</td>\n",
       "      <td>186</td>\n",
       "      <td>7.2</td>\n",
       "      <td>9.2</td>\n",
       "      <td>0.72</td>\n",
       "    </tr>\n",
       "    <tr>\n",
       "      <th>46</th>\n",
       "      <td>4</td>\n",
       "      <td>lemon</td>\n",
       "      <td>spanish_belsan</td>\n",
       "      <td>216</td>\n",
       "      <td>7.3</td>\n",
       "      <td>10.2</td>\n",
       "      <td>0.71</td>\n",
       "    </tr>\n",
       "    <tr>\n",
       "      <th>47</th>\n",
       "      <td>4</td>\n",
       "      <td>lemon</td>\n",
       "      <td>spanish_belsan</td>\n",
       "      <td>196</td>\n",
       "      <td>7.3</td>\n",
       "      <td>9.7</td>\n",
       "      <td>0.72</td>\n",
       "    </tr>\n",
       "  </tbody>\n",
       "</table>\n",
       "</div>"
      ],
      "text/plain": [
       "    fruit_label fruit_name   fruit_subtype  mass  width  height  color_score\n",
       "43            4      lemon  spanish_belsan   194    7.2    10.3         0.70\n",
       "44            4      lemon  spanish_belsan   200    7.3    10.5         0.72\n",
       "45            4      lemon  spanish_belsan   186    7.2     9.2         0.72\n",
       "46            4      lemon  spanish_belsan   216    7.3    10.2         0.71\n",
       "47            4      lemon  spanish_belsan   196    7.3     9.7         0.72"
      ]
     },
     "execution_count": 10,
     "metadata": {},
     "output_type": "execute_result"
    }
   ],
   "source": [
    "lemon_data.head()"
   ]
  },
  {
   "cell_type": "markdown",
   "metadata": {
    "_cell_guid": "53ed5842-7b8f-44fe-b63f-964fcc2122e0",
    "_uuid": "133f2d1013c9d8d83ef69aaaeeba448253365fe3"
   },
   "source": [
    "By looking above data, it is shown that for every fruit there is a fruit_label. For apple it is 1, for mandarin it is 2, for orange it is 3 and for lemon it is 4. Now we will visualize this data on plots for further exploration."
   ]
  },
  {
   "cell_type": "code",
   "execution_count": 11,
   "metadata": {
    "_cell_guid": "4aad2827-d2dc-4a37-b131-135e5a2f842b",
    "_uuid": "a4d36907b1074fe07c5b88d4f7b54dd92516d917",
    "execution": {
     "iopub.execute_input": "2021-11-12T19:17:18.350246Z",
     "iopub.status.busy": "2021-11-12T19:17:18.349890Z",
     "iopub.status.idle": "2021-11-12T19:17:18.569366Z",
     "shell.execute_reply": "2021-11-12T19:17:18.568738Z",
     "shell.execute_reply.started": "2021-11-12T19:17:18.350194Z"
    }
   },
   "outputs": [
    {
     "data": {
      "text/plain": [
       "<matplotlib.collections.PathCollection at 0x7fa052639048>"
      ]
     },
     "execution_count": 11,
     "metadata": {},
     "output_type": "execute_result"
    },
    {
     "data": {
      "image/png": "[encoded data removed]",
      "text/plain": [
       "<matplotlib.figure.Figure at 0x7fa055cdfb00>"
      ]
     },
     "metadata": {},
     "output_type": "display_data"
    }
   ],
   "source": [
    "plt.scatter(fruits['width'],fruits['height'])"
   ]
  },
  {
   "cell_type": "code",
   "execution_count": 12,
   "metadata": {
    "_cell_guid": "5db6dc9f-6de1-4dbc-b3d6-099664c552b8",
    "_uuid": "9ff0667f552d5632d39ab9bd747c8fff95e59cad",
    "execution": {
     "iopub.execute_input": "2021-11-12T19:17:18.570727Z",
     "iopub.status.busy": "2021-11-12T19:17:18.570371Z",
     "iopub.status.idle": "2021-11-12T19:17:18.763376Z",
     "shell.execute_reply": "2021-11-12T19:17:18.762742Z",
     "shell.execute_reply.started": "2021-11-12T19:17:18.570688Z"
    }
   },
   "outputs": [
    {
     "data": {
      "text/plain": [
       "<matplotlib.collections.PathCollection at 0x7fa0525cc710>"
      ]
     },
     "execution_count": 12,
     "metadata": {},
     "output_type": "execute_result"
    },
    {
     "data": {
      "image/png": "[encoded data removed]",
      "text/plain": [
       "<matplotlib.figure.Figure at 0x7fa055c723c8>"
      ]
     },
     "metadata": {},
     "output_type": "display_data"
    }
   ],
   "source": [
    "plt.scatter(fruits['mass'],fruits['color_score'])"
   ]
  },
  {
   "cell_type": "code",
   "execution_count": 13,
   "metadata": {
    "_cell_guid": "63268683-8c08-4713-9430-1dfe89850317",
    "_uuid": "ee443e6386cf66a9d9a12880135744c88a12f7e4",
    "execution": {
     "iopub.execute_input": "2021-11-12T19:17:18.764676Z",
     "iopub.status.busy": "2021-11-12T19:17:18.764349Z",
     "iopub.status.idle": "2021-11-12T19:17:18.904477Z",
     "shell.execute_reply": "2021-11-12T19:17:18.903852Z",
     "shell.execute_reply.started": "2021-11-12T19:17:18.764638Z"
    }
   },
   "outputs": [
    {
     "data": {
      "text/plain": [
       "<matplotlib.legend.Legend at 0x7fa052540550>"
      ]
     },
     "execution_count": 13,
     "metadata": {},
     "output_type": "execute_result"
    },
    {
     "data": {
      "image/png": "[encoded data removed]",
      "text/plain": [
       "<matplotlib.figure.Figure at 0x7fa0525b05f8>"
      ]
     },
     "metadata": {},
     "output_type": "display_data"
    }
   ],
   "source": [
    "plt.plot(fruits['height'],label='Height')\n",
    "plt.plot(fruits['width'],label='Width')\n",
    "plt.legend()"
   ]
  },
  {
   "cell_type": "markdown",
   "metadata": {
    "_cell_guid": "3f583533-ad81-45dc-8995-2d8347fd18c1",
    "_uuid": "653d0af838b23b7b51425b5af515d5d9ac195df7"
   },
   "source": [
    "Now we will use K-Nearest Neighbors classifier to predict a new record on the basis of this data. For this we will aplit this dataset into test and train sets. First we will import sklearn library for our model."
   ]
  },
  {
   "cell_type": "code",
   "execution_count": 14,
   "metadata": {
    "_cell_guid": "47f7040a-f498-474a-a9e1-c45a2f120ac2",
    "_uuid": "3463a390870410078f7fa709c8ae8fdf163d807c",
    "execution": {
     "iopub.execute_input": "2021-11-12T19:17:18.905737Z",
     "iopub.status.busy": "2021-11-12T19:17:18.905413Z",
     "iopub.status.idle": "2021-11-12T19:17:19.700308Z",
     "shell.execute_reply": "2021-11-12T19:17:19.699471Z",
     "shell.execute_reply.started": "2021-11-12T19:17:18.905699Z"
    }
   },
   "outputs": [],
   "source": [
    "from sklearn.model_selection import train_test_split\n",
    "from sklearn.neighbors import KNeighborsClassifier"
   ]
  },
  {
   "cell_type": "code",
   "execution_count": 15,
   "metadata": {
    "_cell_guid": "79f90f0f-5db0-4079-b586-7356afb2296a",
    "_uuid": "7fe66b5621ecf645e14f481be77fbc416a93bb27",
    "execution": {
     "iopub.execute_input": "2021-11-12T19:17:19.701763Z",
     "iopub.status.busy": "2021-11-12T19:17:19.701382Z",
     "iopub.status.idle": "2021-11-12T19:17:19.709643Z",
     "shell.execute_reply": "2021-11-12T19:17:19.708612Z",
     "shell.execute_reply.started": "2021-11-12T19:17:19.701723Z"
    }
   },
   "outputs": [],
   "source": [
    "X=fruits[['mass','width','height']]\n",
    "Y=fruits['fruit_label']\n",
    "X_train,X_test,y_train,y_test=train_test_split(X,Y,random_state=0)"
   ]
  },
  {
   "cell_type": "code",
   "execution_count": 16,
   "metadata": {
    "_cell_guid": "98f87607-9e5c-4b16-ba1d-7040913eb369",
    "_uuid": "c4c45a5b1dccca2a33c20c0a2fc5533867f00adc",
    "execution": {
     "iopub.execute_input": "2021-11-12T19:17:19.711149Z",
     "iopub.status.busy": "2021-11-12T19:17:19.710843Z",
     "iopub.status.idle": "2021-11-12T19:17:19.739996Z",
     "shell.execute_reply": "2021-11-12T19:17:19.739151Z",
     "shell.execute_reply.started": "2021-11-12T19:17:19.711098Z"
    }
   },
   "outputs": [
    {
     "data": {
      "text/html": [
       "<div>\n",
       "<style>\n",
       "    .dataframe thead tr:only-child th {\n",
       "        text-align: right;\n",
       "    }\n",
       "\n",
       "    .dataframe thead th {\n",
       "        text-align: left;\n",
       "    }\n",
       "\n",
       "    .dataframe tbody tr th {\n",
       "        vertical-align: top;\n",
       "    }\n",
       "</style>\n",
       "<table border=\"1\" class=\"dataframe\">\n",
       "  <thead>\n",
       "    <tr style=\"text-align: right;\">\n",
       "      <th></th>\n",
       "      <th>mass</th>\n",
       "      <th>width</th>\n",
       "      <th>height</th>\n",
       "    </tr>\n",
       "  </thead>\n",
       "  <tbody>\n",
       "    <tr>\n",
       "      <th>count</th>\n",
       "      <td>44.000000</td>\n",
       "      <td>44.000000</td>\n",
       "      <td>44.000000</td>\n",
       "    </tr>\n",
       "    <tr>\n",
       "      <th>mean</th>\n",
       "      <td>159.090909</td>\n",
       "      <td>7.038636</td>\n",
       "      <td>7.643182</td>\n",
       "    </tr>\n",
       "    <tr>\n",
       "      <th>std</th>\n",
       "      <td>53.316876</td>\n",
       "      <td>0.835886</td>\n",
       "      <td>1.370350</td>\n",
       "    </tr>\n",
       "    <tr>\n",
       "      <th>min</th>\n",
       "      <td>76.000000</td>\n",
       "      <td>5.800000</td>\n",
       "      <td>4.000000</td>\n",
       "    </tr>\n",
       "    <tr>\n",
       "      <th>25%</th>\n",
       "      <td>127.500000</td>\n",
       "      <td>6.175000</td>\n",
       "      <td>7.200000</td>\n",
       "    </tr>\n",
       "    <tr>\n",
       "      <th>50%</th>\n",
       "      <td>157.000000</td>\n",
       "      <td>7.200000</td>\n",
       "      <td>7.600000</td>\n",
       "    </tr>\n",
       "    <tr>\n",
       "      <th>75%</th>\n",
       "      <td>172.500000</td>\n",
       "      <td>7.500000</td>\n",
       "      <td>8.250000</td>\n",
       "    </tr>\n",
       "    <tr>\n",
       "      <th>max</th>\n",
       "      <td>356.000000</td>\n",
       "      <td>9.200000</td>\n",
       "      <td>10.500000</td>\n",
       "    </tr>\n",
       "  </tbody>\n",
       "</table>\n",
       "</div>"
      ],
      "text/plain": [
       "             mass      width     height\n",
       "count   44.000000  44.000000  44.000000\n",
       "mean   159.090909   7.038636   7.643182\n",
       "std     53.316876   0.835886   1.370350\n",
       "min     76.000000   5.800000   4.000000\n",
       "25%    127.500000   6.175000   7.200000\n",
       "50%    157.000000   7.200000   7.600000\n",
       "75%    172.500000   7.500000   8.250000\n",
       "max    356.000000   9.200000  10.500000"
      ]
     },
     "execution_count": 16,
     "metadata": {},
     "output_type": "execute_result"
    }
   ],
   "source": [
    "X_train.describe()"
   ]
  },
  {
   "cell_type": "code",
   "execution_count": 17,
   "metadata": {
    "_cell_guid": "8abb08d5-4949-4420-8535-a1cc538d4f84",
    "_uuid": "7bc17fe92dcf0d4e8d224def9e7d42cc6e9a05c1",
    "execution": {
     "iopub.execute_input": "2021-11-12T19:17:19.743299Z",
     "iopub.status.busy": "2021-11-12T19:17:19.742775Z",
     "iopub.status.idle": "2021-11-12T19:17:19.763533Z",
     "shell.execute_reply": "2021-11-12T19:17:19.762663Z",
     "shell.execute_reply.started": "2021-11-12T19:17:19.743233Z"
    }
   },
   "outputs": [
    {
     "data": {
      "text/html": [
       "<div>\n",
       "<style>\n",
       "    .dataframe thead tr:only-child th {\n",
       "        text-align: right;\n",
       "    }\n",
       "\n",
       "    .dataframe thead th {\n",
       "        text-align: left;\n",
       "    }\n",
       "\n",
       "    .dataframe tbody tr th {\n",
       "        vertical-align: top;\n",
       "    }\n",
       "</style>\n",
       "<table border=\"1\" class=\"dataframe\">\n",
       "  <thead>\n",
       "    <tr style=\"text-align: right;\">\n",
       "      <th></th>\n",
       "      <th>mass</th>\n",
       "      <th>width</th>\n",
       "      <th>height</th>\n",
       "    </tr>\n",
       "  </thead>\n",
       "  <tbody>\n",
       "    <tr>\n",
       "      <th>count</th>\n",
       "      <td>15.000000</td>\n",
       "      <td>15.00000</td>\n",
       "      <td>15.000000</td>\n",
       "    </tr>\n",
       "    <tr>\n",
       "      <th>mean</th>\n",
       "      <td>174.933333</td>\n",
       "      <td>7.30000</td>\n",
       "      <td>7.840000</td>\n",
       "    </tr>\n",
       "    <tr>\n",
       "      <th>std</th>\n",
       "      <td>60.075508</td>\n",
       "      <td>0.75119</td>\n",
       "      <td>1.369463</td>\n",
       "    </tr>\n",
       "    <tr>\n",
       "      <th>min</th>\n",
       "      <td>84.000000</td>\n",
       "      <td>6.00000</td>\n",
       "      <td>4.600000</td>\n",
       "    </tr>\n",
       "    <tr>\n",
       "      <th>25%</th>\n",
       "      <td>146.000000</td>\n",
       "      <td>7.10000</td>\n",
       "      <td>7.250000</td>\n",
       "    </tr>\n",
       "    <tr>\n",
       "      <th>50%</th>\n",
       "      <td>166.000000</td>\n",
       "      <td>7.20000</td>\n",
       "      <td>7.600000</td>\n",
       "    </tr>\n",
       "    <tr>\n",
       "      <th>75%</th>\n",
       "      <td>185.000000</td>\n",
       "      <td>7.45000</td>\n",
       "      <td>8.150000</td>\n",
       "    </tr>\n",
       "    <tr>\n",
       "      <th>max</th>\n",
       "      <td>362.000000</td>\n",
       "      <td>9.60000</td>\n",
       "      <td>10.300000</td>\n",
       "    </tr>\n",
       "  </tbody>\n",
       "</table>\n",
       "</div>"
      ],
      "text/plain": [
       "             mass     width     height\n",
       "count   15.000000  15.00000  15.000000\n",
       "mean   174.933333   7.30000   7.840000\n",
       "std     60.075508   0.75119   1.369463\n",
       "min     84.000000   6.00000   4.600000\n",
       "25%    146.000000   7.10000   7.250000\n",
       "50%    166.000000   7.20000   7.600000\n",
       "75%    185.000000   7.45000   8.150000\n",
       "max    362.000000   9.60000  10.300000"
      ]
     },
     "execution_count": 17,
     "metadata": {},
     "output_type": "execute_result"
    }
   ],
   "source": [
    "X_test.describe()"
   ]
  },
  {
   "cell_type": "markdown",
   "metadata": {
    "_cell_guid": "95dfa510-158a-43b3-b035-91ae5a31e71a",
    "_uuid": "d23774ca624d9429d9af7b4f7fafa5116d32e2ca"
   },
   "source": [
    "Now we will create a KNN classifier for making predictions."
   ]
  },
  {
   "cell_type": "code",
   "execution_count": 18,
   "metadata": {
    "_cell_guid": "bb70e1de-e11d-46f9-8298-cd9b3b884c7f",
    "_uuid": "2fad886996dc00b10069bf66140106764a57f25c",
    "execution": {
     "iopub.execute_input": "2021-11-12T19:17:19.765342Z",
     "iopub.status.busy": "2021-11-12T19:17:19.765002Z",
     "iopub.status.idle": "2021-11-12T19:17:19.770423Z",
     "shell.execute_reply": "2021-11-12T19:17:19.769665Z",
     "shell.execute_reply.started": "2021-11-12T19:17:19.765273Z"
    }
   },
   "outputs": [],
   "source": [
    "knn=KNeighborsClassifier()"
   ]
  },
  {
   "cell_type": "code",
   "execution_count": 19,
   "metadata": {
    "_cell_guid": "d11c23e8-7594-4411-b20a-1e041528a787",
    "_uuid": "f01e54402226e90bb8b47ef1e501b595f793dde2",
    "execution": {
     "iopub.execute_input": "2021-11-12T19:17:19.772670Z",
     "iopub.status.busy": "2021-11-12T19:17:19.772013Z",
     "iopub.status.idle": "2021-11-12T19:17:19.785678Z",
     "shell.execute_reply": "2021-11-12T19:17:19.784682Z",
     "shell.execute_reply.started": "2021-11-12T19:17:19.772608Z"
    }
   },
   "outputs": [
    {
     "data": {
      "text/plain": [
       "KNeighborsClassifier(algorithm='auto', leaf_size=30, metric='minkowski',\n",
       "           metric_params=None, n_jobs=1, n_neighbors=5, p=2,\n",
       "           weights='uniform')"
      ]
     },
     "execution_count": 19,
     "metadata": {},
     "output_type": "execute_result"
    }
   ],
   "source": [
    "knn.fit(X_train,y_train)"
   ]
  },
  {
   "cell_type": "markdown",
   "metadata": {
    "_cell_guid": "515cb8fa-8345-497a-b54a-a2e6af5d2acd",
    "_uuid": "d43727ccfbbd7d6a509e36c484541bff46b9eb3a"
   },
   "source": [
    "We can check the accuracy of our classifier"
   ]
  },
  {
   "cell_type": "code",
   "execution_count": 20,
   "metadata": {
    "_cell_guid": "27ec099f-6a6a-44fa-8807-fc5affe707b6",
    "_uuid": "0c697b7a091ef280ff81e06ba5a893a39aa66fb6",
    "execution": {
     "iopub.execute_input": "2021-11-12T19:17:19.788095Z",
     "iopub.status.busy": "2021-11-12T19:17:19.787447Z",
     "iopub.status.idle": "2021-11-12T19:17:19.797660Z",
     "shell.execute_reply": "2021-11-12T19:17:19.796701Z",
     "shell.execute_reply.started": "2021-11-12T19:17:19.788031Z"
    }
   },
   "outputs": [
    {
     "data": {
      "text/plain": [
       "0.53333333333333333"
      ]
     },
     "execution_count": 20,
     "metadata": {},
     "output_type": "execute_result"
    }
   ],
   "source": [
    "knn.score(X_test,y_test)"
   ]
  },
  {
   "cell_type": "markdown",
   "metadata": {
    "_cell_guid": "e13f316d-366b-4667-8a7b-91cd507675fd",
    "_uuid": "54e2b707a4ad2942156c93d710594188846e0032"
   },
   "source": [
    "Now we can make predictions with new data as following:"
   ]
  },
  {
   "cell_type": "code",
   "execution_count": 21,
   "metadata": {
    "_cell_guid": "1c645931-c3bf-4e10-8db0-9cce3b1e24ce",
    "_uuid": "6d238d499362ce659e4e96d9d4d69324cf1f00c3",
    "execution": {
     "iopub.execute_input": "2021-11-12T19:17:19.799072Z",
     "iopub.status.busy": "2021-11-12T19:17:19.798657Z",
     "iopub.status.idle": "2021-11-12T19:17:19.808263Z",
     "shell.execute_reply": "2021-11-12T19:17:19.807728Z",
     "shell.execute_reply.started": "2021-11-12T19:17:19.799019Z"
    }
   },
   "outputs": [
    {
     "data": {
      "text/plain": [
       "'lemon'"
      ]
     },
     "execution_count": 21,
     "metadata": {},
     "output_type": "execute_result"
    }
   ],
   "source": [
    "#parameters of following function are mass,width and height\n",
    "#example1\n",
    "prediction1=knn.predict([['100','6.3','8']])\n",
    "predct[prediction1[0]]"
   ]
  },
  {
   "cell_type": "code",
   "execution_count": 22,
   "metadata": {
    "_cell_guid": "e5227f57-04c1-4029-aa32-9e48118b36e9",
    "_uuid": "870d376e773ca0a35124043bbc638f19d0df9c5e",
    "execution": {
     "iopub.execute_input": "2021-11-12T19:17:19.809411Z",
     "iopub.status.busy": "2021-11-12T19:17:19.809100Z",
     "iopub.status.idle": "2021-11-12T19:17:19.820704Z",
     "shell.execute_reply": "2021-11-12T19:17:19.820133Z",
     "shell.execute_reply.started": "2021-11-12T19:17:19.809377Z"
    }
   },
   "outputs": [
    {
     "data": {
      "text/plain": [
       "'orange'"
      ]
     },
     "execution_count": 22,
     "metadata": {},
     "output_type": "execute_result"
    }
   ],
   "source": [
    "#example2\n",
    "prediction2=knn.predict([['300','7','10']])\n",
    "predct[prediction2[0]]"
   ]
  },
  {
   "cell_type": "markdown",
   "metadata": {},
   "source": [
    "Yes, our model is running successfully and making accurate predictions.\n",
    "Enjoy....!"
   ]
  },
  {
   "cell_type": "code",
   "execution_count": 23,
   "metadata": {
    "collapsed": true,
    "jupyter": {
     "outputs_hidden": true
    }
   },
   "outputs": [],
   "source": []
  }
 ],
 "metadata": {
  "kernelspec": {
   "display_name": "Python 3",
   "language": "python",
   "name": "python3"
  },
  "language_info": {
   "codemirror_mode": {
    "name": "ipython",
    "version": 3
   },
   "file_extension": ".py",
   "mimetype": "text/x-python",
   "name": "python",
   "nbconvert_exporter": "python",
   "pygments_lexer": "ipython3",
   "version": "3.6.4"
  }
 },
 "nbformat": 4,
 "nbformat_minor": 4
}
